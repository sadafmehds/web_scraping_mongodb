{
 "cells": [
  {
   "cell_type": "code",
   "execution_count": 1,
   "metadata": {},
   "outputs": [],
   "source": [
    "import pandas\n",
    "import os"
   ]
  },
  {
   "cell_type": "code",
   "execution_count": 2,
   "metadata": {},
   "outputs": [],
   "source": [
    "news_title=\"Meet the People Behind NASA's InSight Mars Lander\""
   ]
  },
  {
   "cell_type": "code",
   "execution_count": 3,
   "metadata": {},
   "outputs": [],
   "source": [
    "news_paragraph='A series of NASA videos highlight scientists and engineers leading the next mission to Mars.'"
   ]
  },
  {
   "cell_type": "code",
   "execution_count": 4,
   "metadata": {},
   "outputs": [],
   "source": [
    "featured_image='https://www.jpl.nasa.gov/spaceimages/?search=&category=Mars/spaceimages/images/mediumsize/PIA00063_ip.jpg'"
   ]
  },
  {
   "cell_type": "code",
   "execution_count": 5,
   "metadata": {},
   "outputs": [],
   "source": [
    "weather_tweet=\"'Sol 2108 (2018-07-12), Sunny, high -24C/-11F, low -65C/-84F, pressure at 8.06 hPa, daylight 05:19-17:27'\""
   ]
  },
  {
   "cell_type": "code",
   "execution_count": 8,
   "metadata": {},
   "outputs": [],
   "source": [
    "mars_html_table='<table border=\"1\" class=\"dataframe Striped-table\">\\n  <thead>\\n    <tr style=\"text-align: right;\">\\n      <th></th>\\n      <th>Charactristic</th>\\n      <th>Value</th>\\n    </tr>\\n  </thead>\\n  <tbody>\\n    <tr>\\n      <th>0</th>\\n      <td>Equatorial Diameter:</td>\\n      <td>6,792 km</td>\\n    </tr>\\n    <tr>\\n      <th>1</th>\\n      <td>Polar Diameter:</td>\\n      <td>6,752 km</td>\\n    </tr>\\n    <tr>\\n      <th>2</th>\\n      <td>Mass:</td>\\n      <td>6.42 x 10^23 kg (10.7% Earth)</td>\\n    </tr>\\n    <tr>\\n      <th>3</th>\\n      <td>Moons:</td>\\n      <td>2 (Phobos &amp; Deimos)</td>\\n    </tr>\\n    <tr>\\n      <th>4</th>\\n      <td>Orbit Distance:</td>\\n      <td>227,943,824 km (1.52 AU)</td>\\n    </tr>\\n    <tr>\\n      <th>5</th>\\n      <td>Orbit Period:</td>\\n      <td>687 days (1.9 years)</td>\\n    </tr>\\n    <tr>\\n      <th>6</th>\\n      <td>Surface Temperature:</td>\\n      <td>-153 to 20 °C</td>\\n    </tr>\\n    <tr>\\n      <th>7</th>\\n      <td>First Record:</td>\\n      <td>2nd millennium BC</td>\\n    </tr>\\n    <tr>\\n      <th>8</th>\\n      <td>Recorded By:</td>\\n      <td>Egyptian astronomers</td>\\n    </tr>\\n  </tbody>\\n</table>'"
   ]
  },
  {
   "cell_type": "code",
   "execution_count": 9,
   "metadata": {},
   "outputs": [],
   "source": [
    "titles=['Cerberus Hemisphere Enhanced',\n",
    " 'Schiaparelli Hemisphere Enhanced',\n",
    " 'Syrtis Major Hemisphere Enhanced',\n",
    " 'Valles Marineris Hemisphere Enhanced']"
   ]
  },
  {
   "cell_type": "code",
   "execution_count": 10,
   "metadata": {},
   "outputs": [],
   "source": [
    "mars_hemis={'Cerberus Hemisphere Enhanced': 'http://astropedia.astrogeology.usgs.gov/download/Mars/Viking/cerberus_enhanced.tif/full.jpg',\n",
    " 'Schiaparelli Hemisphere Enhanced': 'http://astropedia.astrogeology.usgs.gov/download/Mars/Viking/schiaparelli_enhanced.tif/full.jpg',\n",
    " 'Syrtis Major Hemisphere Enhanced': 'http://astropedia.astrogeology.usgs.gov/download/Mars/Viking/syrtis_major_enhanced.tif/full.jpg',\n",
    " 'Valles Marineris Hemisphere Enhanced': 'http://astropedia.astrogeology.usgs.gov/download/Mars/Viking/valles_marineris_enhanced.tif/full.jpg'} \n",
    "    \n",
    "    "
   ]
  },
  {
   "cell_type": "code",
   "execution_count": 11,
   "metadata": {},
   "outputs": [
    {
     "data": {
      "text/plain": [
       "{'Cerberus Hemisphere Enhanced': 'http://astropedia.astrogeology.usgs.gov/download/Mars/Viking/cerberus_enhanced.tif/full.jpg',\n",
       " 'Schiaparelli Hemisphere Enhanced': 'http://astropedia.astrogeology.usgs.gov/download/Mars/Viking/schiaparelli_enhanced.tif/full.jpg',\n",
       " 'Syrtis Major Hemisphere Enhanced': 'http://astropedia.astrogeology.usgs.gov/download/Mars/Viking/syrtis_major_enhanced.tif/full.jpg',\n",
       " 'Valles Marineris Hemisphere Enhanced': 'http://astropedia.astrogeology.usgs.gov/download/Mars/Viking/valles_marineris_enhanced.tif/full.jpg'}"
      ]
     },
     "execution_count": 11,
     "metadata": {},
     "output_type": "execute_result"
    }
   ],
   "source": [
    "mars_hemis"
   ]
  },
  {
   "cell_type": "code",
   "execution_count": 12,
   "metadata": {},
   "outputs": [],
   "source": [
    "import pandas as pd\n",
    "import numpy as np\n",
    "import datetime\n",
    "import time\n",
    "\n",
    "import requests\n",
    "from splinter import Browser\n",
    "from bs4 import BeautifulSoup as bs\n",
    "from selenium import webdriver\n",
    "from flask import Flask, render_template\n",
    "\n",
    "import pymongo\n",
    "\n",
    "def Scraper():\n",
    "\n",
    "    executable_path = {'executable_path': 'chromedriver.exe'}\n",
    "    browser = Browser('chrome', **executable_path, headless=False)\n",
    "\n",
    "\n",
    "    url=\"https://mars.nasa.gov/news/?page=0&per_page=40&order=publish_date+desc%2Ccreated_at+desc&search=&category=19%2C165%2C184%2C204&blank_scope=Latest\"\n",
    "\n",
    "    browser.visit(url)\n",
    "    html=browser.html\n",
    "    soup=bs(html,'html.parser')\n",
    "\n",
    "    print(soup.prettify())\n",
    "\n",
    "\n",
    "\n",
    "    news_title=soup.find('div',class_='content_title').get_text()\n",
    "    news_paragraph=soup.find('div',class_='article_teaser_body').get_text()\n",
    "\n",
    "\n",
    "    news_title\n",
    "\n",
    "    news_paragraph\n",
    "\n",
    "\n",
    "    # **JPL FEATURED IMAGE**\n",
    "\n",
    "    executable_path = {'executable_path': 'chromedriver.exe'}\n",
    "    browser = Browser('chrome', **executable_path, headless=False)\n",
    "\n",
    "    url=\"https://www.jpl.nasa.gov/spaceimages/?search=&category=Mars\"\n",
    "\n",
    "    browser.visit(url)\n",
    "    html=browser.html\n",
    "    soup=bs(html,'html.parser')\n",
    "\n",
    "    images=soup.footer.find('a',class_='button fancybox')['data-fancybox-href']\n",
    "    url2='https://www.jpl.nasa.gov'\n",
    "    image_url=url2+images\n",
    "    \n",
    "    print(image_url)\n",
    "\n",
    "\n",
    "    # **MARS WEATHER TWEETS**\n",
    "\n",
    "    executable_path={'executable_path':'chromedriver.exe'}\n",
    "    browser=Browser('chrome',**executable_path,headless=False)\n",
    "\n",
    "    url='https://twitter.com/marswxreport?lang=en'\n",
    "    browser.visit(url)\n",
    "    html=browser.html\n",
    "    soup=bs(html,'html.parser')\n",
    "\n",
    "\n",
    "    relevant_tweets=soup.find_all('p',class_='TweetTextSize TweetTextSize--normal js-tweet-text tweet-text')\n",
    "\n",
    "    relevant_tweets\n",
    "\n",
    "    weather_tweet=relevant_tweets[7].get_text()\n",
    "    weather_tweet\n",
    "\n",
    "\n",
    "    # **MARS FACTS**\n",
    "\n",
    "    url='https://space-facts.com/mars/'\n",
    "    tables=pd.read_html(url)\n",
    "    tables\n",
    "\n",
    "\n",
    "    df=tables[0]\n",
    "    df\n",
    "\n",
    "\n",
    "    df=df.rename(columns={0:'Charactristic',1:'Value'})\n",
    "\n",
    "    df.set_index('Charactristic')\n",
    "\n",
    "    final_fact_table=df.to_html(classes='Striped-table')\n",
    "    final_fact_table\n",
    "\n",
    "\n",
    "    # **MARS HEMISPHERES**\n",
    "\n",
    "\n",
    "    executable_path={'executable_path':'chromedriver.exe'}\n",
    "    browser=Browser('chrome',**executable_path,headless=False)\n",
    "\n",
    "    url='https://astrogeology.usgs.gov/search/results?q=hemisphere+enhanced&k1=target&v1=Mars'\n",
    "    browser.visit(url)\n",
    "    html=browser.html\n",
    "    soup=bs(html,'html.parser')\n",
    "\n",
    "\n",
    "    titles=[]\n",
    "    hemi_titles=soup.find_all('h3')\n",
    "\n",
    "    for i in hemi_titles:\n",
    "        x=i.get_text()\n",
    "        titles.append(x)\n",
    "\n",
    "    titles\n",
    "\n",
    "\n",
    "    links=[]\n",
    "\n",
    "    for j in titles:\n",
    "        browser.visit(url)\n",
    "        browser.click_link_by_partial_text(j)\n",
    "        browser.click_link_by_text('Sample')\n",
    "        html=browser.html\n",
    "        soup=bs(html,'html.parser')\n",
    "\n",
    "        link=soup.find('div',class_='downloads').find('a')['href']\n",
    "\n",
    "        links.append(link)\n",
    "\n",
    "    links\n",
    "\n",
    "\n",
    "    mars_hemis={}\n",
    "    for m,k in zip(titles,links):\n",
    "        mars_hemis[m]=k\n",
    "\n",
    "\n",
    "    data={\"news_title\":news_title,\n",
    "    \"news_paragraph\":news_paragraph,\n",
    "    \"image_url\":image_url,\n",
    "    \"weather_tweet\":weather_tweet,\n",
    "    \"final_fact_table\":final_fact_table,\n",
    "    \"mars_hemis\":mars_hemis}\n",
    "\n",
    "\n",
    "    # data={\"Latest Mars News Headline\":news_title,\n",
    "    # \"Latest Mars News\":news_paragraph,\n",
    "    # \"Featured Image\":image_url,\n",
    "    # \"Latest Mars Weather Update\":weather_tweet,\n",
    "    # \"Mars Fun Facts\":final_fact_table,\n",
    "    # \"Mars Hemispheres\":mars_hemis}\n",
    "\n",
    "    return data"
   ]
  },
  {
   "cell_type": "code",
   "execution_count": null,
   "metadata": {},
   "outputs": [],
   "source": []
  },
  {
   "cell_type": "code",
   "execution_count": null,
   "metadata": {},
   "outputs": [],
   "source": []
  }
 ],
 "metadata": {
  "kernelspec": {
   "display_name": "Python 3",
   "language": "python",
   "name": "python3"
  },
  "language_info": {
   "codemirror_mode": {
    "name": "ipython",
    "version": 3
   },
   "file_extension": ".py",
   "mimetype": "text/x-python",
   "name": "python",
   "nbconvert_exporter": "python",
   "pygments_lexer": "ipython3",
   "version": "3.6.4"
  }
 },
 "nbformat": 4,
 "nbformat_minor": 2
}
